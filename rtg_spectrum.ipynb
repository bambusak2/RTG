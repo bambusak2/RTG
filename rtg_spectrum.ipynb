{
 "cells": [
  {
   "cell_type": "markdown",
   "metadata": {},
   "source": [
    "# Interaktivní vizualizace spektra rentgenového záření\n",
    "\n",
    "Tento notebook interaktivně demonstruje vznik **nevyfiltrovaného spektra** rentgenového záření. Umožňuje měnit **materiál anody** a **napětí na rentgence (kVp)** a sledovat jejich vliv na výsledné spektrum, jeho **kvalitu** a **kvantitu**.\n",
    "\n",
    "## Fyzikální pozadí ⚛️\n",
    "\n",
    "Rentgenové spektrum se skládá ze dvou hlavních složek:\n",
    "\n",
    "1.  **Brzdné záření (Bremsstrahlung):** Vytváří **spojité spektrum**. Vzniká zpomalením elektronů v elektrickém poli jader anody. Jeho maximální energie ($E_{max}$) je přímo dána napětím na rentgence (kVp). Jeho intenzita je úměrná protonovému číslu anody (Z).\n",
    "2.  **Charakteristické záření:** Vytváří **diskrétní (čárové) spektrum**. Vzniká, když elektron z katody vyrazí elektron z vnitřní slupky atomu anody a na jeho místo přeskočí elektron z vyšší slupky. Energie emitovaného fotonu je pak rovna rozdílu vazebných energií a je specifická pro daný materiál.\n",
    "\n",
    "* **Kvantita záření:** Celkový počet fotonů (plocha pod křivkou spektra). Závisí na Z, kVp a mAs.\n",
    "* **Kvalita záření:** Průměrná energie fotonů, která určuje pronikavost svazku. Závisí primárně na kVp a filtraci."
   ]
  },
  {
   "cell_type": "markdown",
   "metadata": {},
   "source": [
    "## Jak používat notebook?\n",
    "\n",
    "1.  **Spusťte buňku s kódem** (klávesová zkratka `Shift + Enter`).\n",
    "2.  **Použijte posuvník `kVp`** pro změnu napětí na rentgence.\n",
    "3.  **Vyberte materiál anody** z rozbalovacího menu pro porovnání různých spekter."
   ]
  },
  {
   "cell_type": "code",
   "execution_count": null,
   "metadata": {},
   "outputs": [],
   "source": [
    "# Import potřebných knihoven\n",
    "import numpy as np\n",
    "import matplotlib.pyplot as plt\n",
    "import ipywidgets as widgets\n",
    "from ipywidgets import interact, Dropdown, IntSlider\n",
    "from IPython.display import display\n",
    "from scipy.stats import norm\n",
    "\n",
    "# Data pro různé materiály anody: Z, K-hrana, Kα a Kβ energie [keV]\n",
    "anode_materials = {\n",
    "    'Molybden (Mo)': {\n",
    "        'Z': 42,\n",
    "        'k_edge': 20.0,\n",
    "        'k_alpha': 17.5,\n",
    "        'k_beta': 19.6\n",
    "    },\n",
    "    'Rhodium (Rh)': {\n",
    "        'Z': 45,\n",
    "        'k_edge': 23.2,\n",
    "        'k_alpha': 20.2,\n",
    "        'k_beta': 22.7\n",
    "    },\n",
    "    'Volfram (W)': {\n",
    "        'Z': 74,\n",
    "        'k_edge': 69.5,\n",
    "        'k_alpha': 59.3,\n",
    "        'k_beta': 67.2\n",
    "    },\n",
    "    'Měď (Cu)': {\n",
    "        'Z': 29,\n",
    "        'k_edge': 9.0,\n",
    "        'k_alpha': 8.0,\n",
    "        'k_beta': 8.9\n",
    "    }\n",
    "}\n",
    "\n",
    "# Hlavní funkce pro vykreslení grafu\n",
    "def plot_xray_spectrum(anode_name, kvp):\n",
    "    material = anode_materials[anode_name]\n",
    "    Z = material['Z']\n",
    "    \n",
    "    # Energetická osa až do 150 keV\n",
    "    E = np.linspace(1, 150, 1000)\n",
    "    \n",
    "    # 1. Výpočet brzdného záření (Kramerova aproximace)\n",
    "    brems = Z * (kvp - E)\n",
    "    brems[E > kvp] = 0 # Intenzita je nulová pro energie vyšší než kVp\n",
    "    brems[E < 0] = 0\n",
    "    \n",
    "    total_spectrum = brems\n",
    "    \n",
    "    # 2. Přidání charakteristického záření (pokud je kVp dostatečně vysoké)\n",
    "    if kvp > material['k_edge']:\n",
    "        # Intenzita a šířka píků\n",
    "        peak_intensity_alpha = np.max(brems) * 1.5\n",
    "        peak_intensity_beta = np.max(brems) * 0.5\n",
    "        peak_width = 0.5 # Šířka v keV\n",
    "        \n",
    "        char_alpha = norm.pdf(E, material['k_alpha'], peak_width) * peak_intensity_alpha\n",
    "        char_beta = norm.pdf(E, material['k_beta'], peak_width) * peak_intensity_beta\n",
    "        total_spectrum = brems + char_alpha + char_beta\n",
    "\n",
    "    # 3. Výpočet kvality a kvantity\n",
    "    # Kvantita = plocha pod křivkou (suma intenzit)\n",
    "    quantity = np.sum(total_spectrum)\n",
    "    \n",
    "    # Kvalita = průměrná energie spektra\n",
    "    if quantity > 0:\n",
    "        quality = np.average(E, weights=total_spectrum)\n",
    "    else:\n",
    "        quality = 0\n",
    "    \n",
    "    # Vykreslení grafu\n",
    "    fig, ax = plt.subplots(figsize=(12, 7))\n",
    "    \n",
    "    ax.plot(E, total_spectrum, color='royalblue', linewidth=2.5, label='Celkové spektrum')\n",
    "    ax.fill_between(E, total_spectrum, color='skyblue', alpha=0.3)\n",
    "    \n",
    "    # Vyznačení kvality (průměrné energie)\n",
    "    ax.axvline(quality, color='crimson', linestyle='--', linewidth=2, label=f'Kvalita (průměrná E): {quality:.1f} keV')\n",
    "\n",
    "    # Popisky a titulek\n",
    "    ax.set_title(f'Nevyfiltrované spektrum pro anodu: {anode_name} (Z={Z}) při {kvp} kVp', fontsize=16)\n",
    "    ax.set_xlabel('Energie fotonu [keV]', fontsize=12)\n",
    "    ax.set_ylabel('Relativní intenzita', fontsize=12)\n",
    "    ax.grid(True, linestyle='--', alpha=0.6)\n",
    "    ax.set_xlim(0, 150)\n",
    "    ax.set_ylim(bottom=0)\n",
    "    \n",
    "    # Textové pole s hodnotou kvantity\n",
    "    quantity_text = f'Kvantita (plocha pod křivkou): {quantity/1e5:.2f} [rel. jedn.]'\n",
    "    ax.text(0.55, 0.9, quantity_text, transform=ax.transAxes, fontsize=12, \n",
    "            verticalalignment='top', bbox=dict(boxstyle='round,pad=0.5', fc='wheat', alpha=0.5))\n",
    "    \n",
    "    ax.legend(fontsize=11)\n",
    "    plt.show()"
   ]
  },
  {
   "cell_type": "code",
   "execution_count": 2,
   "metadata": {},
   "outputs": [
    {
     "data": {
      "application/vnd.jupyter.widget-view+json": {
       "model_id": "e125da9b4ce640a683849c8d899e3a72",
       "version_major": 2,
       "version_minor": 0
      },
      "text/plain": [
       "VBox(children=(IntSlider(value=80, description='Napětí (kVp):', layout=Layout(width='50%'), max=150, min=20, s…"
      ]
     },
     "metadata": {},
     "output_type": "display_data"
    },
    {
     "data": {
      "application/vnd.jupyter.widget-view+json": {
       "model_id": "62430e8a414f41daaf89f250f9931adf",
       "version_major": 2,
       "version_minor": 0
      },
      "text/plain": [
       "Output()"
      ]
     },
     "metadata": {},
     "output_type": "display_data"
    }
   ],
   "source": [
    "# Vytvoření a zobrazení interaktivních prvků\n",
    "kvp_slider = IntSlider(\n",
    "    value=80, min=20, max=150, step=1, \n",
    "    description='Napětí (kVp):', \n",
    "    style={'description_width': 'initial'},\n",
    "    layout={'width': '50%'}\n",
    ")\n",
    "\n",
    "anode_dropdown = Dropdown(\n",
    "    options=list(anode_materials.keys()),\n",
    "    value='Volfram (W)',\n",
    "    description='Materiál anody:',\n",
    "    style={'description_width': 'initial'},\n",
    "    layout={'width': '50%'}\n",
    ")\n",
    "\n",
    "ui = widgets.VBox([kvp_slider, anode_dropdown])\n",
    "out = widgets.interactive_output(plot_xray_spectrum, {'anode_name': anode_dropdown, 'kvp': kvp_slider})\n",
    "\n",
    "display(ui, out)"
   ]
  },
  {
   "cell_type": "markdown",
   "metadata": {},
   "source": [
    "## Klíčová zjištění a experimenty 📈\n",
    "\n",
    "* **Vliv napětí (kVp):**\n",
    "    * Zkuste plynule zvyšovat `kVp`. Všimněte si, že se **zvyšuje maximální energie** (křivka se posouvá doprava).\n",
    "    * Současně se dramaticky **zvyšuje kvantita** (celková plocha pod křivkou) a také **kvalita** (červená čára se posouvá doprava).\n",
    "\n",
    "* **Vliv materiálu anody (Z):**\n",
    "    * Porovnejte `Měď (Cu, Z=29)` a `Volfram (W, Z=74)` při stejném kVp (např. 100 kVp).\n",
    "    * U volframu je **kvantita** (intenzita brzdného záření) výrazně vyšší.\n",
    "    * **Charakteristické píky** se nacházejí na úplně jiných, pro daný prvek specifických, energiích.\n",
    "\n",
    "* **Podmínka pro charakteristické záření:**\n",
    "    * Vyberte `Volfram (W)`, jehož K-hrana je ~70 keV.\n",
    "    * Nastavte `kVp` na hodnotu **pod 70** (např. 65 kVp). Charakteristické píky zmizí! Elektrony z katody nemají dostatek energie, aby vyrazily elektrony z K-slupky.\n",
    "    * Jakmile `kVp` zvýšíte **nad 70**, píky se skokově objeví."
   ]
  }
 ],
 "metadata": {
  "kernelspec": {
   "display_name": "brainseg",
   "language": "python",
   "name": "python3"
  },
  "language_info": {
   "codemirror_mode": {
    "name": "ipython",
    "version": 3
   },
   "file_extension": ".py",
   "mimetype": "text/x-python",
   "name": "python",
   "nbconvert_exporter": "python",
   "pygments_lexer": "ipython3",
   "version": "3.12.4"
  }
 },
 "nbformat": 4,
 "nbformat_minor": 4
}