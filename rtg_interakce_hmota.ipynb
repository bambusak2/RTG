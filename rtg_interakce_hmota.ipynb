{
 "cells": [
  {
   "cell_type": "markdown",
   "metadata": {},
   "source": [
    "# Interaktivní vizualizace interakcí RTG záření\n",
    "\n",
    "Tento notebook interaktivně znázorňuje, jak se mění poměr mezi **fotoelektrickým jevem** a **Comptonovým rozptylem** v závislosti na dvou klíčových faktorech: **energii fotonu (E)** a **protonovém čísle materiálu (Z)**.\n",
    "\n",
    "## Fyzikální principy ⚛️\n",
    "\n",
    "Skript využívá zjednodušené, ale pro radiologickou fyziku relevantní vztahy:\n",
    "\n",
    "* **Pravděpodobnost fotoelektrického jevu** je přibližně úměrná $Z^3 / E^3$. Tento jev je zodpovědný za **kontrast obrazu**. Dominantní je u materiálů s vysokým Z a při nízkých energiích.\n",
    "* **Pravděpodobnost Comptonova rozptylu** je téměř nezávislá na protonovém čísle (Z) a jen mírně klesá s energií. Tento jev přispívá k **rozptýlenému záření**, které snižuje kvalitu obrazu a zvyšuje dávku pacienta.\n",
    "\n",
    "Graf ukazuje poměr pravděpodobnosti **Fotoelektrický jev / Comptonův rozptyl**.\n",
    "\n",
    "- **Hodnota > 1**: Převažuje fotoelektrický jev (zobrazeno červeně).\n",
    "- **Hodnota < 1**: Převažuje Comptonův rozptyl (zobrazeno modře)."
   ]
  },
  {
   "cell_type": "markdown",
   "metadata": {},
   "source": [
    "## Jak používat tento notebook?\n",
    "\n",
    "1.  **Spusťte buňku s kódem:** Klikněte do následující buňky a spusťte ji (např. pomocí klávesové zkratky `Shift + Enter`).\n",
    "2.  **Vyberte materiál:** Z rozbalovacího menu si zvolte jednu z předdefinovaných tkání nebo kontrastních látek.\n",
    "3.  **Nastavte vlastní Z:** Chcete-li experimentovat, vyberte v menu \"Vlastní\" a nastavte protonové číslo pomocí posuvníku."
   ]
  },
  {
   "cell_type": "code",
   "execution_count": null,
   "metadata": {},
   "outputs": [
    {
     "data": {
      "application/vnd.jupyter.widget-view+json": {
       "model_id": "23553acb724b4bf7ab844caef5e1fdc7",
       "version_major": 2,
       "version_minor": 0
      },
      "text/plain": [
       "VBox(children=(HBox(children=(Dropdown(description='Vyber materiál:', index=3, layout=Layout(width='320px'), o…"
      ]
     },
     "metadata": {},
     "output_type": "display_data"
    },
    {
     "data": {
      "application/vnd.jupyter.widget-view+json": {
       "model_id": "626b052e40564991a1485db0d3e52124",
       "version_major": 2,
       "version_minor": 0
      },
      "text/plain": [
       "Output()"
      ]
     },
     "metadata": {},
     "output_type": "display_data"
    }
   ],
   "source": [
    "# -*- coding: utf-8 -*-\n",
    "import numpy as np\n",
    "import matplotlib.pyplot as plt\n",
    "import ipywidgets as widgets\n",
    "from ipywidgets import Dropdown, RadioButtons, IntSlider\n",
    "from IPython.display import display\n",
    "\n",
    "# Efektivní protonová čísla (orientační – didaktický model)\n",
    "materialy = {\n",
    "    'Tuk': 6.3,\n",
    "    'Voda': 7.4,\n",
    "    'Svalovina': 7.6,\n",
    "    'Kost (kompaktní)': 13.8,\n",
    "    'Vzduch': 7.6,\n",
    "    'Jod (kontrast)': 53.0,\n",
    "    'Baryum (kontrast)': 56.0\n",
    "}\n",
    "\n",
    "def plot_interaction_ratio(material_name, compton_model, energy_keV):\n",
    "    # volba Z \n",
    "    Z = float(materialy[material_name])\n",
    "    title_material = f'materiál: {material_name} (Z≈{Z:.1f})'\n",
    "\n",
    "    # rozsah energií pro vykreslení křivky (fixní); ovládá se pouze E0\n",
    "    E = np.linspace(10, 150, 600)\n",
    "    E0 = float(energy_keV)\n",
    "\n",
    "    # Fotoefekt ~ Z^3 / E^3 (zjednodušeně)\n",
    "    prob_photo = (Z**3) / (E**3)\n",
    "\n",
    "    # Jednoduché modely Comptonu\n",
    "    if compton_model == 'const':\n",
    "        prob_compton = np.ones_like(E)               # ~E^0\n",
    "        prob_compton_E0 = 1.0\n",
    "    else:\n",
    "        prob_compton = 1.0 / E                       # ~E^-1\n",
    "        prob_compton_E0 = 1.0 / E0\n",
    "\n",
    "    ratio = prob_photo / prob_compton               # křivka\n",
    "    ratio_E0 = (Z**3) / (E0**3) / prob_compton_E0   # hodnota v E0\n",
    "\n",
    "    # vykreslení\n",
    "    fig, ax = plt.subplots(figsize=(11, 6.5))\n",
    "\n",
    "    ax.plot(E, ratio, linewidth=2.5,\n",
    "            label=f'Poměr P(FE)/P(Compton) pro Z={Z:.1f}')\n",
    "\n",
    "    # zbarvení oblastí\n",
    "    ax.fill_between(E, np.minimum(ratio, 1), 1, where=ratio<1, alpha=0.25,\n",
    "                    label='Převažuje Comptonův rozptyl')\n",
    "    ax.fill_between(E, 1, np.maximum(ratio, 1), where=ratio>=1, alpha=0.25,\n",
    "                    label='Převažuje fotoelektrický jev')\n",
    "\n",
    "    # Poměr = 1\n",
    "    ax.axhline(1, linestyle='--', linewidth=1.3, label='Poměr = 1')\n",
    "\n",
    "    # Svislá značka v zadané energii (konstantní energie)\n",
    "    ax.axvline(E0, linestyle=':', linewidth=1.8)\n",
    "    ax.plot([E0], [ratio_E0], marker='o', markersize=7)\n",
    "    ax.text(E0, ratio_E0, f\"  E = {E0:.0f} keV,\\n  poměr ≈ {ratio_E0:.3g}\",\n",
    "            va='bottom', ha='left')\n",
    "\n",
    "    ax.set_title(f'Závislost poměru interakcí na energii pro {title_material}', fontsize=14)\n",
    "    ax.set_xlabel('Energie fotonu [keV]')\n",
    "    ax.set_ylabel('Poměr pravděpodobností\\nFotoelektrický jev / Comptonův rozptyl')\n",
    "    ax.set_yscale('log')\n",
    "    ax.grid(True, which='both', ls='--', alpha=0.5)\n",
    "    ax.set_xlim(10, 150)\n",
    "    ax.set_ylim(1e-3, 1e3)\n",
    "    ax.legend()\n",
    "    plt.show()\n",
    "\n",
    "# --- OVLÁDACÍ PRVKY ---\n",
    "material_dropdown = Dropdown(\n",
    "    options=list(materialy.keys()),\n",
    "    value='Kost (kompaktní)',\n",
    "    description='Vyber materiál:',\n",
    "    style={'description_width': 'initial'},\n",
    "    layout={'width': '320px'}\n",
    ")\n",
    "\n",
    "compton_model = RadioButtons(\n",
    "    options=[('Konstantní (~E⁰)', 'const'), ('Mírný pokles (~1/E)', 'invE')],\n",
    "    value='const',\n",
    "    description='Model Comptonu:',\n",
    "    style={'description_width': 'initial'}\n",
    ")\n",
    "\n",
    "energy_slider = IntSlider(\n",
    "    value=70, min=10, max=150, step=1,\n",
    "    description='Energie [keV]:',\n",
    "    style={'description_width': 'initial'},\n",
    "    layout={'width': '320px'}\n",
    ")\n",
    "\n",
    "# Propojení (bez vlastního Z a bez K-hrany)\n",
    "out = widgets.interactive_output(\n",
    "    plot_interaction_ratio,\n",
    "    {\n",
    "        'material_name': material_dropdown,\n",
    "        'compton_model': compton_model,\n",
    "        'energy_keV': energy_slider\n",
    "    }\n",
    ")\n",
    "\n",
    "ui = widgets.VBox([\n",
    "    widgets.HBox([material_dropdown, energy_slider]),\n",
    "    compton_model\n",
    "])\n",
    "\n",
    "display(ui, out)\n"
   ]
  },
  {
   "cell_type": "markdown",
   "metadata": {},
   "source": [
    "## Klíčová zjištění z grafu \n",
    "\n",
    "* **Vliv energie (E):** Pro jakýkoliv materiál platí, že s **rostoucí energií** fotonů prudce klesá pravděpodobnost fotoelektrického jevu. Proto se poměr rychle posouvá ve prospěch Comptonova rozptylu. To je důvod, proč se pro mamografii (kde je potřeba vysoký kontrast měkkých tkání) používají nízké energie (cca 20-30 keV).\n",
    "\n",
    "* **Vliv protonového čísla (Z):** Porovnejte například \"Svalovinu\" (Z≈7.6) a \"Kost\" (Z≈13.8). Uvidíte, že u kosti je křivka mnohem výše. To znamená, že fotoelektrický jev v kosti dominuje až do mnohem vyšších energií než ve svalovině. Právě tento obrovský rozdíl, daný závislostí na **$Z^3$**, je klíčem k vysokému kontrastu mezi kostí a měkkou tkání na rentgenovém snímku.\n",
    "\n",
    "* **Kontrastní látky:** Zvolte \"Jod\" (Z=53) nebo \"Baryum\" (Z=56). Křivka se posune dramaticky nahoru. Tyto látky masivně absorbují rentgenové záření prostřednictvím fotoelektrického jevu v celém diagnostickém rozsahu energií, a proto se používají ke zviditelnění cév nebo trávicího traktu."
   ]
  }
 ],
 "metadata": {
  "kernelspec": {
   "display_name": "brainseg",
   "language": "python",
   "name": "python3"
  },
  "language_info": {
   "codemirror_mode": {
    "name": "ipython",
    "version": 3
   },
   "file_extension": ".py",
   "mimetype": "text/x-python",
   "name": "python",
   "nbconvert_exporter": "python",
   "pygments_lexer": "ipython3",
   "version": "3.12.4"
  }
 },
 "nbformat": 4,
 "nbformat_minor": 4
}