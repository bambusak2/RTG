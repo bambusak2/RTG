{
 "cells": [
  {
   "cell_type": "code",
   "execution_count": null,
   "id": "ac9cc695-dcfd-4b1d-a8d2-4ef54049eba4",
   "metadata": {},
   "outputs": [],
   "source": [
    "test to view\n"
   ]
  }
 ],
 "metadata": {
  "kernelspec": {
   "display_name": "Python 3 (ipykernel)",
   "language": "python",
   "name": "python3"
  },
  "language_info": {
   "codemirror_mode": {
    "name": "ipython",
    "version": 3
   },
   "file_extension": ".py",
   "mimetype": "text/x-python",
   "name": "python",
   "nbconvert_exporter": "python",
   "pygments_lexer": "ipython3",
   "version": "3.12.0"
  }
 },
 "nbformat": 4,
 "nbformat_minor": 5
}
